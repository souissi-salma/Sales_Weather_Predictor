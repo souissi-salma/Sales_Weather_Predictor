{
 "cells": [
  {
   "cell_type": "markdown",
   "id": "4ee1b1e4-e459-4a0b-8c75-aee1f0e1b3b7",
   "metadata": {},
   "source": [
    "# **Modélisation & IA | DecisionTreeRegressor**\n",
    "---"
   ]
  },
  {
   "cell_type": "markdown",
   "id": "5f5de617-75df-4517-957e-1d1b1ee83191",
   "metadata": {},
   "source": [
    "## **Etape 0️⃣ : Chargement du dataset :**"
   ]
  },
  {
   "cell_type": "code",
   "execution_count": 1,
   "id": "187aa47c-9d70-457f-ba4f-c2ea714aacfb",
   "metadata": {},
   "outputs": [
    {
     "name": "stdout",
     "output_type": "stream",
     "text": [
      "Index(['date', 'city', 'profil_cotier', 'température', 'humidity',\n",
      "       'vitesse_vent', 'precipitation', 'temp_lag1', 'humid_lag1',\n",
      "       'vitesse_vent_lag1', 'precip_lag1', 'temp_lag3', 'humid_lag3',\n",
      "       'vitesse_vent_lag3', 'precip_lag3', 'temp_lag7', 'humid_lag7',\n",
      "       'vitesse_vent_lag7', 'precip_lag7', 'urgence_active', 'mois', 'Weekend',\n",
      "       'Jours Fériés', 'saison', 'Vacances Scolaires', 'Ramadan', 'Nouvel An',\n",
      "       'Indice de Vague de Chaleur', 'Indice de Vague de Froid ',\n",
      "       'Indice de Pluie Intense', 'Indice de Tempête', 'Indice de sécheresse',\n",
      "       'boissons fraiches', 'boissons chaudes', 'snacks sucrés',\n",
      "       'snacks salés', 'produits laitiers frais', 'produits de jardinage',\n",
      "       'ustensiles jetables', 'crème solaire', 'équipements d urgence',\n",
      "       'soins hygiene', 'soins hydratants', 'Charbon',\n",
      "       'produits anti_moustiques'],\n",
      "      dtype='object')\n"
     ]
    }
   ],
   "source": [
    "import pandas as pd\n",
    "df=pd.read_csv('data5.csv')\n",
    "print(df.columns)"
   ]
  },
  {
   "cell_type": "markdown",
   "id": "9d1975d7-9995-4a44-8c7f-3bc2359c3daf",
   "metadata": {},
   "source": [
    "## **Etape 1️⃣ : Séparation X (features) / y (cibles)**"
   ]
  },
  {
   "cell_type": "code",
   "execution_count": 2,
   "id": "f456c39f-9af1-489a-9012-4ed28d2017d3",
   "metadata": {},
   "outputs": [],
   "source": [
    "#variable cible == les produits : \n",
    "targets = [\n",
    "    'boissons fraiches', 'boissons chaudes', 'snacks sucrés',\n",
    "    'snacks salés', 'produits laitiers frais', 'produits de jardinage',\n",
    "    'ustensiles jetables', 'crème solaire', 'équipements d urgence',\n",
    "    'soins hygiene', 'soins hydratants', 'Charbon',\n",
    "    'produits anti_moustiques'\n",
    "]\n",
    "y = df[targets]\n",
    "\n"
   ]
  },
  {
   "cell_type": "code",
   "execution_count": 3,
   "id": "3e5538ad-6ccd-44ac-8cad-0ee7d4e78add",
   "metadata": {},
   "outputs": [],
   "source": [
    "#Features (X) :\n",
    "drop_cols = ['date'] + targets\n",
    "X = df.drop(columns=drop_cols)\n"
   ]
  },
  {
   "cell_type": "code",
   "execution_count": 4,
   "id": "b2b09b43-b571-4a54-9a2b-e4392ec2eed5",
   "metadata": {},
   "outputs": [
    {
     "name": "stdout",
     "output_type": "stream",
     "text": [
      "<class 'pandas.core.frame.DataFrame'>\n",
      "(43769, 31) (43769, 13)\n"
     ]
    }
   ],
   "source": [
    "print(type(X))\n",
    "print(X.shape , y.shape)"
   ]
  },
  {
   "cell_type": "markdown",
   "id": "5ee353b3-2c34-470c-bad4-82d153e0165b",
   "metadata": {},
   "source": [
    "## **Pas besoin de normalisation / standardisation**\n",
    "**Contrairement à des modèles comme la régression linéaire, le SVM ou les réseaux de neurones :**\n",
    "* **Les arbres de décision ne sont pas sensibles à l’échelle des variables.**\n",
    "* **Les features peuvent avoir des ordres de grandeur très différents (poids en kg vs prix en euros), l'arbre s'adapte.**"
   ]
  },
  {
   "cell_type": "markdown",
   "id": "6c31af34-4ecf-4168-9886-bef840f9f378",
   "metadata": {},
   "source": [
    "## **Etape 2️⃣ : Encodage des variables catégorielles**"
   ]
  },
  {
   "cell_type": "markdown",
   "id": "8be917c4-8db8-40f0-ab50-9ebef096f601",
   "metadata": {},
   "source": [
    "### **One-Hot Encoding (méthode classique avec pd.get_dummies())<br>**\n",
    "**C’est la méthode la plus simple et adaptée pour les arbres de décision, car :**\n",
    "\n",
    "* **Elle ne crée pas d'ordre artificiel entre les catégories (ce que ferait LabelEncoder à tort).**\n",
    "\n",
    "* **Compatible avec DecisionTreeRegressor, RandomForest, GradientBoosting, etc.**"
   ]
  },
  {
   "cell_type": "code",
   "execution_count": 5,
   "id": "30c00448-aea4-40e8-9a86-5a3dd3d4861a",
   "metadata": {},
   "outputs": [],
   "source": [
    "from sklearn.compose import ColumnTransformer\n",
    "from sklearn.preprocessing import OneHotEncoder\n",
    "# Colonnes catégorielles\n",
    "cat_cols = ['city', 'profil_cotier', 'saison']\n",
    "preprocessor = ColumnTransformer(\n",
    "    transformers=[\n",
    "        ('cat', OneHotEncoder(drop='first', sparse_output=False), cat_cols)\n",
    "    ],remainder='passthrough' # garde les colonnes restantes\n",
    ")"
   ]
  },
  {
   "cell_type": "code",
   "execution_count": 6,
   "id": "9687f45e-7b87-4a9f-9989-2e7c157ca240",
   "metadata": {},
   "outputs": [
    {
     "name": "stdout",
     "output_type": "stream",
     "text": [
      "(43769, 56)\n"
     ]
    }
   ],
   "source": [
    "# Transformer les features\n",
    "X_prepared = preprocessor.fit_transform(X)\n",
    "\n",
    "# Vérification :\n",
    "print(X_prepared.shape)\n"
   ]
  },
  {
   "cell_type": "markdown",
   "id": "04103f31-e2f2-492f-baec-bd51375a0f1d",
   "metadata": {},
   "source": [
    "## **Bibliothèques nécessaires**"
   ]
  },
  {
   "cell_type": "code",
   "execution_count": 7,
   "id": "cb7303d5-564f-4b97-bfac-1c00ac96f956",
   "metadata": {},
   "outputs": [],
   "source": [
    "from sklearn.tree import DecisionTreeRegressor\n",
    "from sklearn.metrics import mean_squared_error, r2_score\n",
    "from sklearn.model_selection import train_test_split\n",
    "import matplotlib.pyplot as plt\n",
    "import seaborn as sns\n"
   ]
  },
  {
   "cell_type": "code",
   "execution_count": 8,
   "id": "72e6e7c3-c8f3-4df3-bb43-5a2dc12ceba4",
   "metadata": {},
   "outputs": [
    {
     "name": "stdout",
     "output_type": "stream",
     "text": [
      "(35015, 56) (8754, 56)\n"
     ]
    }
   ],
   "source": [
    "X_train, X_test, y_train, y_test = train_test_split(X_prepared, y, test_size=0.2, random_state=42) # 20% test / 80% train\n",
    "\n",
    "print(X_train.shape, X_test.shape)"
   ]
  },
  {
   "cell_type": "code",
   "execution_count": 9,
   "id": "43cdeb5a-1eb2-44e9-b3f8-542d4e636ea9",
   "metadata": {},
   "outputs": [
    {
     "data": {
      "text/html": [
       "<style>#sk-container-id-1 {\n",
       "  /* Definition of color scheme common for light and dark mode */\n",
       "  --sklearn-color-text: black;\n",
       "  --sklearn-color-line: gray;\n",
       "  /* Definition of color scheme for unfitted estimators */\n",
       "  --sklearn-color-unfitted-level-0: #fff5e6;\n",
       "  --sklearn-color-unfitted-level-1: #f6e4d2;\n",
       "  --sklearn-color-unfitted-level-2: #ffe0b3;\n",
       "  --sklearn-color-unfitted-level-3: chocolate;\n",
       "  /* Definition of color scheme for fitted estimators */\n",
       "  --sklearn-color-fitted-level-0: #f0f8ff;\n",
       "  --sklearn-color-fitted-level-1: #d4ebff;\n",
       "  --sklearn-color-fitted-level-2: #b3dbfd;\n",
       "  --sklearn-color-fitted-level-3: cornflowerblue;\n",
       "\n",
       "  /* Specific color for light theme */\n",
       "  --sklearn-color-text-on-default-background: var(--sg-text-color, var(--theme-code-foreground, var(--jp-content-font-color1, black)));\n",
       "  --sklearn-color-background: var(--sg-background-color, var(--theme-background, var(--jp-layout-color0, white)));\n",
       "  --sklearn-color-border-box: var(--sg-text-color, var(--theme-code-foreground, var(--jp-content-font-color1, black)));\n",
       "  --sklearn-color-icon: #696969;\n",
       "\n",
       "  @media (prefers-color-scheme: dark) {\n",
       "    /* Redefinition of color scheme for dark theme */\n",
       "    --sklearn-color-text-on-default-background: var(--sg-text-color, var(--theme-code-foreground, var(--jp-content-font-color1, white)));\n",
       "    --sklearn-color-background: var(--sg-background-color, var(--theme-background, var(--jp-layout-color0, #111)));\n",
       "    --sklearn-color-border-box: var(--sg-text-color, var(--theme-code-foreground, var(--jp-content-font-color1, white)));\n",
       "    --sklearn-color-icon: #878787;\n",
       "  }\n",
       "}\n",
       "\n",
       "#sk-container-id-1 {\n",
       "  color: var(--sklearn-color-text);\n",
       "}\n",
       "\n",
       "#sk-container-id-1 pre {\n",
       "  padding: 0;\n",
       "}\n",
       "\n",
       "#sk-container-id-1 input.sk-hidden--visually {\n",
       "  border: 0;\n",
       "  clip: rect(1px 1px 1px 1px);\n",
       "  clip: rect(1px, 1px, 1px, 1px);\n",
       "  height: 1px;\n",
       "  margin: -1px;\n",
       "  overflow: hidden;\n",
       "  padding: 0;\n",
       "  position: absolute;\n",
       "  width: 1px;\n",
       "}\n",
       "\n",
       "#sk-container-id-1 div.sk-dashed-wrapped {\n",
       "  border: 1px dashed var(--sklearn-color-line);\n",
       "  margin: 0 0.4em 0.5em 0.4em;\n",
       "  box-sizing: border-box;\n",
       "  padding-bottom: 0.4em;\n",
       "  background-color: var(--sklearn-color-background);\n",
       "}\n",
       "\n",
       "#sk-container-id-1 div.sk-container {\n",
       "  /* jupyter's `normalize.less` sets `[hidden] { display: none; }`\n",
       "     but bootstrap.min.css set `[hidden] { display: none !important; }`\n",
       "     so we also need the `!important` here to be able to override the\n",
       "     default hidden behavior on the sphinx rendered scikit-learn.org.\n",
       "     See: https://github.com/scikit-learn/scikit-learn/issues/21755 */\n",
       "  display: inline-block !important;\n",
       "  position: relative;\n",
       "}\n",
       "\n",
       "#sk-container-id-1 div.sk-text-repr-fallback {\n",
       "  display: none;\n",
       "}\n",
       "\n",
       "div.sk-parallel-item,\n",
       "div.sk-serial,\n",
       "div.sk-item {\n",
       "  /* draw centered vertical line to link estimators */\n",
       "  background-image: linear-gradient(var(--sklearn-color-text-on-default-background), var(--sklearn-color-text-on-default-background));\n",
       "  background-size: 2px 100%;\n",
       "  background-repeat: no-repeat;\n",
       "  background-position: center center;\n",
       "}\n",
       "\n",
       "/* Parallel-specific style estimator block */\n",
       "\n",
       "#sk-container-id-1 div.sk-parallel-item::after {\n",
       "  content: \"\";\n",
       "  width: 100%;\n",
       "  border-bottom: 2px solid var(--sklearn-color-text-on-default-background);\n",
       "  flex-grow: 1;\n",
       "}\n",
       "\n",
       "#sk-container-id-1 div.sk-parallel {\n",
       "  display: flex;\n",
       "  align-items: stretch;\n",
       "  justify-content: center;\n",
       "  background-color: var(--sklearn-color-background);\n",
       "  position: relative;\n",
       "}\n",
       "\n",
       "#sk-container-id-1 div.sk-parallel-item {\n",
       "  display: flex;\n",
       "  flex-direction: column;\n",
       "}\n",
       "\n",
       "#sk-container-id-1 div.sk-parallel-item:first-child::after {\n",
       "  align-self: flex-end;\n",
       "  width: 50%;\n",
       "}\n",
       "\n",
       "#sk-container-id-1 div.sk-parallel-item:last-child::after {\n",
       "  align-self: flex-start;\n",
       "  width: 50%;\n",
       "}\n",
       "\n",
       "#sk-container-id-1 div.sk-parallel-item:only-child::after {\n",
       "  width: 0;\n",
       "}\n",
       "\n",
       "/* Serial-specific style estimator block */\n",
       "\n",
       "#sk-container-id-1 div.sk-serial {\n",
       "  display: flex;\n",
       "  flex-direction: column;\n",
       "  align-items: center;\n",
       "  background-color: var(--sklearn-color-background);\n",
       "  padding-right: 1em;\n",
       "  padding-left: 1em;\n",
       "}\n",
       "\n",
       "\n",
       "/* Toggleable style: style used for estimator/Pipeline/ColumnTransformer box that is\n",
       "clickable and can be expanded/collapsed.\n",
       "- Pipeline and ColumnTransformer use this feature and define the default style\n",
       "- Estimators will overwrite some part of the style using the `sk-estimator` class\n",
       "*/\n",
       "\n",
       "/* Pipeline and ColumnTransformer style (default) */\n",
       "\n",
       "#sk-container-id-1 div.sk-toggleable {\n",
       "  /* Default theme specific background. It is overwritten whether we have a\n",
       "  specific estimator or a Pipeline/ColumnTransformer */\n",
       "  background-color: var(--sklearn-color-background);\n",
       "}\n",
       "\n",
       "/* Toggleable label */\n",
       "#sk-container-id-1 label.sk-toggleable__label {\n",
       "  cursor: pointer;\n",
       "  display: block;\n",
       "  width: 100%;\n",
       "  margin-bottom: 0;\n",
       "  padding: 0.5em;\n",
       "  box-sizing: border-box;\n",
       "  text-align: center;\n",
       "}\n",
       "\n",
       "#sk-container-id-1 label.sk-toggleable__label-arrow:before {\n",
       "  /* Arrow on the left of the label */\n",
       "  content: \"▸\";\n",
       "  float: left;\n",
       "  margin-right: 0.25em;\n",
       "  color: var(--sklearn-color-icon);\n",
       "}\n",
       "\n",
       "#sk-container-id-1 label.sk-toggleable__label-arrow:hover:before {\n",
       "  color: var(--sklearn-color-text);\n",
       "}\n",
       "\n",
       "/* Toggleable content - dropdown */\n",
       "\n",
       "#sk-container-id-1 div.sk-toggleable__content {\n",
       "  max-height: 0;\n",
       "  max-width: 0;\n",
       "  overflow: hidden;\n",
       "  text-align: left;\n",
       "  /* unfitted */\n",
       "  background-color: var(--sklearn-color-unfitted-level-0);\n",
       "}\n",
       "\n",
       "#sk-container-id-1 div.sk-toggleable__content.fitted {\n",
       "  /* fitted */\n",
       "  background-color: var(--sklearn-color-fitted-level-0);\n",
       "}\n",
       "\n",
       "#sk-container-id-1 div.sk-toggleable__content pre {\n",
       "  margin: 0.2em;\n",
       "  border-radius: 0.25em;\n",
       "  color: var(--sklearn-color-text);\n",
       "  /* unfitted */\n",
       "  background-color: var(--sklearn-color-unfitted-level-0);\n",
       "}\n",
       "\n",
       "#sk-container-id-1 div.sk-toggleable__content.fitted pre {\n",
       "  /* unfitted */\n",
       "  background-color: var(--sklearn-color-fitted-level-0);\n",
       "}\n",
       "\n",
       "#sk-container-id-1 input.sk-toggleable__control:checked~div.sk-toggleable__content {\n",
       "  /* Expand drop-down */\n",
       "  max-height: 200px;\n",
       "  max-width: 100%;\n",
       "  overflow: auto;\n",
       "}\n",
       "\n",
       "#sk-container-id-1 input.sk-toggleable__control:checked~label.sk-toggleable__label-arrow:before {\n",
       "  content: \"▾\";\n",
       "}\n",
       "\n",
       "/* Pipeline/ColumnTransformer-specific style */\n",
       "\n",
       "#sk-container-id-1 div.sk-label input.sk-toggleable__control:checked~label.sk-toggleable__label {\n",
       "  color: var(--sklearn-color-text);\n",
       "  background-color: var(--sklearn-color-unfitted-level-2);\n",
       "}\n",
       "\n",
       "#sk-container-id-1 div.sk-label.fitted input.sk-toggleable__control:checked~label.sk-toggleable__label {\n",
       "  background-color: var(--sklearn-color-fitted-level-2);\n",
       "}\n",
       "\n",
       "/* Estimator-specific style */\n",
       "\n",
       "/* Colorize estimator box */\n",
       "#sk-container-id-1 div.sk-estimator input.sk-toggleable__control:checked~label.sk-toggleable__label {\n",
       "  /* unfitted */\n",
       "  background-color: var(--sklearn-color-unfitted-level-2);\n",
       "}\n",
       "\n",
       "#sk-container-id-1 div.sk-estimator.fitted input.sk-toggleable__control:checked~label.sk-toggleable__label {\n",
       "  /* fitted */\n",
       "  background-color: var(--sklearn-color-fitted-level-2);\n",
       "}\n",
       "\n",
       "#sk-container-id-1 div.sk-label label.sk-toggleable__label,\n",
       "#sk-container-id-1 div.sk-label label {\n",
       "  /* The background is the default theme color */\n",
       "  color: var(--sklearn-color-text-on-default-background);\n",
       "}\n",
       "\n",
       "/* On hover, darken the color of the background */\n",
       "#sk-container-id-1 div.sk-label:hover label.sk-toggleable__label {\n",
       "  color: var(--sklearn-color-text);\n",
       "  background-color: var(--sklearn-color-unfitted-level-2);\n",
       "}\n",
       "\n",
       "/* Label box, darken color on hover, fitted */\n",
       "#sk-container-id-1 div.sk-label.fitted:hover label.sk-toggleable__label.fitted {\n",
       "  color: var(--sklearn-color-text);\n",
       "  background-color: var(--sklearn-color-fitted-level-2);\n",
       "}\n",
       "\n",
       "/* Estimator label */\n",
       "\n",
       "#sk-container-id-1 div.sk-label label {\n",
       "  font-family: monospace;\n",
       "  font-weight: bold;\n",
       "  display: inline-block;\n",
       "  line-height: 1.2em;\n",
       "}\n",
       "\n",
       "#sk-container-id-1 div.sk-label-container {\n",
       "  text-align: center;\n",
       "}\n",
       "\n",
       "/* Estimator-specific */\n",
       "#sk-container-id-1 div.sk-estimator {\n",
       "  font-family: monospace;\n",
       "  border: 1px dotted var(--sklearn-color-border-box);\n",
       "  border-radius: 0.25em;\n",
       "  box-sizing: border-box;\n",
       "  margin-bottom: 0.5em;\n",
       "  /* unfitted */\n",
       "  background-color: var(--sklearn-color-unfitted-level-0);\n",
       "}\n",
       "\n",
       "#sk-container-id-1 div.sk-estimator.fitted {\n",
       "  /* fitted */\n",
       "  background-color: var(--sklearn-color-fitted-level-0);\n",
       "}\n",
       "\n",
       "/* on hover */\n",
       "#sk-container-id-1 div.sk-estimator:hover {\n",
       "  /* unfitted */\n",
       "  background-color: var(--sklearn-color-unfitted-level-2);\n",
       "}\n",
       "\n",
       "#sk-container-id-1 div.sk-estimator.fitted:hover {\n",
       "  /* fitted */\n",
       "  background-color: var(--sklearn-color-fitted-level-2);\n",
       "}\n",
       "\n",
       "/* Specification for estimator info (e.g. \"i\" and \"?\") */\n",
       "\n",
       "/* Common style for \"i\" and \"?\" */\n",
       "\n",
       ".sk-estimator-doc-link,\n",
       "a:link.sk-estimator-doc-link,\n",
       "a:visited.sk-estimator-doc-link {\n",
       "  float: right;\n",
       "  font-size: smaller;\n",
       "  line-height: 1em;\n",
       "  font-family: monospace;\n",
       "  background-color: var(--sklearn-color-background);\n",
       "  border-radius: 1em;\n",
       "  height: 1em;\n",
       "  width: 1em;\n",
       "  text-decoration: none !important;\n",
       "  margin-left: 1ex;\n",
       "  /* unfitted */\n",
       "  border: var(--sklearn-color-unfitted-level-1) 1pt solid;\n",
       "  color: var(--sklearn-color-unfitted-level-1);\n",
       "}\n",
       "\n",
       ".sk-estimator-doc-link.fitted,\n",
       "a:link.sk-estimator-doc-link.fitted,\n",
       "a:visited.sk-estimator-doc-link.fitted {\n",
       "  /* fitted */\n",
       "  border: var(--sklearn-color-fitted-level-1) 1pt solid;\n",
       "  color: var(--sklearn-color-fitted-level-1);\n",
       "}\n",
       "\n",
       "/* On hover */\n",
       "div.sk-estimator:hover .sk-estimator-doc-link:hover,\n",
       ".sk-estimator-doc-link:hover,\n",
       "div.sk-label-container:hover .sk-estimator-doc-link:hover,\n",
       ".sk-estimator-doc-link:hover {\n",
       "  /* unfitted */\n",
       "  background-color: var(--sklearn-color-unfitted-level-3);\n",
       "  color: var(--sklearn-color-background);\n",
       "  text-decoration: none;\n",
       "}\n",
       "\n",
       "div.sk-estimator.fitted:hover .sk-estimator-doc-link.fitted:hover,\n",
       ".sk-estimator-doc-link.fitted:hover,\n",
       "div.sk-label-container:hover .sk-estimator-doc-link.fitted:hover,\n",
       ".sk-estimator-doc-link.fitted:hover {\n",
       "  /* fitted */\n",
       "  background-color: var(--sklearn-color-fitted-level-3);\n",
       "  color: var(--sklearn-color-background);\n",
       "  text-decoration: none;\n",
       "}\n",
       "\n",
       "/* Span, style for the box shown on hovering the info icon */\n",
       ".sk-estimator-doc-link span {\n",
       "  display: none;\n",
       "  z-index: 9999;\n",
       "  position: relative;\n",
       "  font-weight: normal;\n",
       "  right: .2ex;\n",
       "  padding: .5ex;\n",
       "  margin: .5ex;\n",
       "  width: min-content;\n",
       "  min-width: 20ex;\n",
       "  max-width: 50ex;\n",
       "  color: var(--sklearn-color-text);\n",
       "  box-shadow: 2pt 2pt 4pt #999;\n",
       "  /* unfitted */\n",
       "  background: var(--sklearn-color-unfitted-level-0);\n",
       "  border: .5pt solid var(--sklearn-color-unfitted-level-3);\n",
       "}\n",
       "\n",
       ".sk-estimator-doc-link.fitted span {\n",
       "  /* fitted */\n",
       "  background: var(--sklearn-color-fitted-level-0);\n",
       "  border: var(--sklearn-color-fitted-level-3);\n",
       "}\n",
       "\n",
       ".sk-estimator-doc-link:hover span {\n",
       "  display: block;\n",
       "}\n",
       "\n",
       "/* \"?\"-specific style due to the `<a>` HTML tag */\n",
       "\n",
       "#sk-container-id-1 a.estimator_doc_link {\n",
       "  float: right;\n",
       "  font-size: 1rem;\n",
       "  line-height: 1em;\n",
       "  font-family: monospace;\n",
       "  background-color: var(--sklearn-color-background);\n",
       "  border-radius: 1rem;\n",
       "  height: 1rem;\n",
       "  width: 1rem;\n",
       "  text-decoration: none;\n",
       "  /* unfitted */\n",
       "  color: var(--sklearn-color-unfitted-level-1);\n",
       "  border: var(--sklearn-color-unfitted-level-1) 1pt solid;\n",
       "}\n",
       "\n",
       "#sk-container-id-1 a.estimator_doc_link.fitted {\n",
       "  /* fitted */\n",
       "  border: var(--sklearn-color-fitted-level-1) 1pt solid;\n",
       "  color: var(--sklearn-color-fitted-level-1);\n",
       "}\n",
       "\n",
       "/* On hover */\n",
       "#sk-container-id-1 a.estimator_doc_link:hover {\n",
       "  /* unfitted */\n",
       "  background-color: var(--sklearn-color-unfitted-level-3);\n",
       "  color: var(--sklearn-color-background);\n",
       "  text-decoration: none;\n",
       "}\n",
       "\n",
       "#sk-container-id-1 a.estimator_doc_link.fitted:hover {\n",
       "  /* fitted */\n",
       "  background-color: var(--sklearn-color-fitted-level-3);\n",
       "}\n",
       "</style><div id=\"sk-container-id-1\" class=\"sk-top-container\"><div class=\"sk-text-repr-fallback\"><pre>DecisionTreeRegressor(random_state=42)</pre><b>In a Jupyter environment, please rerun this cell to show the HTML representation or trust the notebook. <br />On GitHub, the HTML representation is unable to render, please try loading this page with nbviewer.org.</b></div><div class=\"sk-container\" hidden><div class=\"sk-item\"><div class=\"sk-estimator fitted sk-toggleable\"><input class=\"sk-toggleable__control sk-hidden--visually\" id=\"sk-estimator-id-1\" type=\"checkbox\" checked><label for=\"sk-estimator-id-1\" class=\"sk-toggleable__label fitted sk-toggleable__label-arrow fitted\">&nbsp;&nbsp;DecisionTreeRegressor<a class=\"sk-estimator-doc-link fitted\" rel=\"noreferrer\" target=\"_blank\" href=\"https://scikit-learn.org/1.4/modules/generated/sklearn.tree.DecisionTreeRegressor.html\">?<span>Documentation for DecisionTreeRegressor</span></a><span class=\"sk-estimator-doc-link fitted\">i<span>Fitted</span></span></label><div class=\"sk-toggleable__content fitted\"><pre>DecisionTreeRegressor(random_state=42)</pre></div> </div></div></div></div>"
      ],
      "text/plain": [
       "DecisionTreeRegressor(random_state=42)"
      ]
     },
     "execution_count": 9,
     "metadata": {},
     "output_type": "execute_result"
    }
   ],
   "source": [
    "# Modèle de base (sans réglage d'hyperparamètres)\n",
    "tree_model = DecisionTreeRegressor(random_state=42)\n",
    "tree_model.fit(X_train, y_train)"
   ]
  },
  {
   "cell_type": "code",
   "execution_count": 10,
   "id": "501f33d7-d777-4c0e-b7dd-feed9c9c6b49",
   "metadata": {},
   "outputs": [],
   "source": [
    "y_pred_train = tree_model.predict(X_train)\n",
    "y_pred_test = tree_model.predict(X_test)\n"
   ]
  },
  {
   "cell_type": "code",
   "execution_count": 11,
   "id": "b96b1615-3004-44b3-ae72-61814f9deabe",
   "metadata": {},
   "outputs": [
    {
     "name": "stdout",
     "output_type": "stream",
     "text": [
      "R² Train : 1.0\n",
      "R² Test  : 0.7162970777525192\n",
      "MSE Test : 3.0857717790548493\n"
     ]
    }
   ],
   "source": [
    "print(\"R² Train :\", r2_score(y_train, y_pred_train))\n",
    "print(\"R² Test  :\", r2_score(y_test, y_pred_test))\n",
    "print(\"MSE Test :\", mean_squared_error(y_test, y_pred_test))"
   ]
  },
  {
   "cell_type": "markdown",
   "id": "bbdde9a3-3dea-4bf0-9509-09d6ddc90d6b",
   "metadata": {},
   "source": [
    "| Jeu       | R²         |\n",
    "| --------- | ---------- |\n",
    "| **Train** |  **1.00** |  \n",
    "| **Test**  |  **0.71** |\n",
    "\n",
    "➡ **l'arbre apprend parfaitement le train, mais échoue à généraliser : c’est typiquement du OVERFITTING.**\n",
    "\n",
    "\n",
    "| Métrique     | Régression Linéaire | Arbre de Décision |\n",
    "|-------------|---------------------|-------------------|\n",
    "| **R² Test**  |  **0.712**         |  0.71           |\n",
    "| **MSE Test** |  2.67             |  **3.08**       |\n",
    "\n",
    "➡ **MSE plus bas avec l'arbre : l’arbre capte mieux certaines relations locales ou non-linéaires, ce qui diminue l’erreur quadratique moyenne.**\n",
    "\n",
    "➡**R² plus bas : il explique moins de variance globale que la régression linéaire.** \n",
    "> ### **L'arbre est plus précis (MSE), mais moins généralisable (R²).**\n",
    "> * **Un DecisionTreeRegressor par défaut est souvent trop profond, ce qui peut le rendre très bon sur l'entraînement, mais plus faible sur le test**<br>\n",
    "> * **Il faut le régulariser via des hyperparamètres.**\n"
   ]
  },
  {
   "cell_type": "markdown",
   "id": "d15aba22-308a-4d80-844e-ca48729afc25",
   "metadata": {},
   "source": [
    "## **Etape 3️⃣ : Réduction du surapprentissage**"
   ]
  },
  {
   "cell_type": "markdown",
   "id": "45cd6a39-82d0-4cda-b441-528ca4559d0f",
   "metadata": {},
   "source": [
    "# **Automatiser l’optimisation des hyperparamètres avec GridSearchCV**"
   ]
  },
  {
   "cell_type": "markdown",
   "id": "db737052-f49a-4854-ae34-e1c2e9ba86dd",
   "metadata": {},
   "source": [
    "\n",
    "## **Les hyperparamètres de l’arbre de décision**\n",
    "\n",
    "\n",
    "### 1. **`max_depth` (profondeur maximale de l’arbre)**\n",
    "\n",
    "* **Définition** : Nombre maximum de niveaux (ou \"étages\") que l’arbre peut atteindre.\n",
    "* **But** : Contrôler la **complexité** du modèle. Plus la profondeur est grande, plus l’arbre peut s’adapter aux données… jusqu’à l’**overfitting**.\n",
    "\n",
    "\n",
    "---\n",
    "\n",
    "### 2. **`min_samples_split` (nombre min. d’échantillons pour scinder un nœud)**\n",
    "\n",
    "* **Définition** : Nombre minimum d’observations nécessaires pour qu’un nœud soit divisé en deux sous-nœuds.\n",
    "* **But** : Éviter de splitter un nœud sur des échantillons trop petits → réduit le **bruit**.\n",
    "\n",
    "\n",
    "---\n",
    "\n",
    "### 3. **`min_samples_leaf` (taille minimale d’une feuille)**\n",
    "\n",
    "* **Définition** : Nombre minimal d’échantillons qu'une **feuille** (nœud terminal) doit contenir.\n",
    "* **But** : Empêche l’arbre de créer des feuilles trop spécifiques avec très peu de données.\n",
    "* **Conséquence :**\n",
    "\n",
    "    * `min_samples_leaf=1` (valeur par défaut) → risque de créer des règles trop spécifiques, donc surajustement.\n",
    "    * `min_samples_leaf=4` → compromis entre précision et robustesse.\n",
    "\n",
    "---"
   ]
  },
  {
   "cell_type": "code",
   "execution_count": 12,
   "id": "a6a557c7-b6b7-453b-ba91-6210cb1d19fe",
   "metadata": {},
   "outputs": [],
   "source": [
    "from sklearn.model_selection import GridSearchCV"
   ]
  },
  {
   "cell_type": "code",
   "execution_count": 48,
   "id": "63c93111-dbfc-4972-9426-b244163f9896",
   "metadata": {},
   "outputs": [
    {
     "name": "stdout",
     "output_type": "stream",
     "text": [
      "Fitting 5 folds for each of 5814 candidates, totalling 29070 fits\n",
      "Meilleurs hyperparamètres : {'max_depth': 14, 'min_samples_leaf': 4, 'min_samples_split': 18}\n",
      "R² Train : 0.7287664347612858\n",
      "R² test : 0.754588323260129\n",
      "MSE test : 1.683506948557226\n"
     ]
    }
   ],
   "source": [
    "model = DecisionTreeRegressor(random_state=42)\n",
    "\n",
    "# Grille de recherche des hyperparamètres\n",
    "param_grid = {\n",
    "    'max_depth': [3,4, 5,6, 7,8, 9,10, 11,12,13,14,15,16,17,18,19,20],\n",
    "    'min_samples_split': [2,3,4, 5,6,7,8,9, 10,11,12,13,14,15,16,17,18,19, 20],\n",
    "    'min_samples_leaf': [4, 5,6,7,8,9, 10,11,12,13,14,15,16,17,18,19,20]\n",
    "}\n",
    "\n",
    "# Configuration de la recherche avec validation croisée\n",
    "grid_search = GridSearchCV(\n",
    "    estimator=model,\n",
    "    param_grid=param_grid,\n",
    "    scoring='r2',\n",
    "    cv=5,                    # 5-fold cross-validation\n",
    "    n_jobs=-1,               # Utilise tous les cœurs CPU disponibles\n",
    "    verbose=1\n",
    ")\n",
    "\n",
    "# Lancer la recherche\n",
    "grid_search.fit(X_train, y_train)\n",
    "\n",
    "# Meilleurs paramètres\n",
    "print(\"Meilleurs hyperparamètres :\", grid_search.best_params_)\n",
    "\n",
    "# Prédiction avec le meilleur modèle trouvé\n",
    "best_model = grid_search.best_estimator_\n",
    "y_pred_test = best_model.predict(X_test)\n",
    "y_pred_train = tree_model.predict(X_train)\n",
    "\n",
    "# Évaluation\n",
    "print(\"R² Train :\", r2_score(y_train, y_pred_train))\n",
    "print(\"R² test :\", r2_score(y_test, y_pred_test))\n",
    "print(\"MSE test :\", mean_squared_error(y_test, y_pred_test))"
   ]
  },
  {
   "cell_type": "markdown",
   "id": "56c195a6-1358-4350-abef-38e460dc3013",
   "metadata": {},
   "source": [
    "### **L’ajustement automatique par GridSearchCV nous a permis de trouver la bonne complexité d’arbre (max_depth=14) tout en régularisant avec min_samples_leaf=4 et min_samples_split=18.**\n",
    "> ### Très bon équilibre biais/variance :\n",
    ">* **Le modèle n’est pas surappris (train ≈ test),**\n",
    "\n",
    ">* **Et il généralise mieux que tous les précédents (y compris régression + interactions).**\n",
    "\n",
    "| Hyperparamètre         | Rôle principal                               | Impact dans ton modèle                                           |\n",
    "| ---------------------- | -------------------------------------------- | ---------------------------------------------------------------- |\n",
    "| `max_depth=14`         | Limite la profondeur de l’arbre              | Empêche le surapprentissage tout en gardant une bonne complexité |\n",
    "| `min_samples_split=18` | Évite les divisions sur peu d’exemples       | Réduit le bruit et améliore la stabilité                         |\n",
    "| `min_samples_leaf=4`   | Importe une taille minimum dans les feuilles | Évite des prédictions basées sur très peu de données             |\n",
    "\n",
    "\n"
   ]
  },
  {
   "cell_type": "code",
   "execution_count": 13,
   "id": "7ae4a72a-af9c-4180-a431-dd09a13b760e",
   "metadata": {},
   "outputs": [
    {
     "name": "stdout",
     "output_type": "stream",
     "text": [
      "R² Train : 0.8558445928567361\n",
      "R² Test  : 0.8304677077189457\n",
      "MSE Test : 1.9173619932918957\n"
     ]
    }
   ],
   "source": [
    "#relancer le modele : \n",
    "tree_model = DecisionTreeRegressor(\n",
    "    max_depth=14,              # Limite la complexité de l'arbre\n",
    "    min_samples_split=18,     # Minimum d'échantillons pour un split\n",
    "    min_samples_leaf=4,       # Minimum d'échantillons dans une feuille\n",
    "    random_state=42\n",
    ")\n",
    "tree_model.fit(X_train, y_train)\n",
    "y_pred_train = tree_model.predict(X_train)\n",
    "y_pred_test = tree_model.predict(X_test)\n",
    "\n",
    "print(\"R² Train :\", r2_score(y_train, y_pred_train))\n",
    "print(\"R² Test  :\", r2_score(y_test, y_pred_test))\n",
    "print(\"MSE Test :\", mean_squared_error(y_test, y_pred_test))\n"
   ]
  },
  {
   "cell_type": "markdown",
   "id": "21c35472-356f-4e85-a3d6-8fd3adcc3e15",
   "metadata": {},
   "source": [
    "## **Observation :**\n",
    "| Version du modèle      | R² Train  | R² Test |\n",
    "| ---------------------- | --------- | ------- |\n",
    "| Avec `GridSearchCV`    | \\~0.79   | \\~0.83 |\n",
    "| En relançant à la main | **0.85** | \\~0.83 |\n",
    "\n",
    "\n",
    "---\n",
    "\n",
    "### **Pourquoi les résultats se sont améliorés après avoir relancé le modèle ?**\n",
    "\n",
    "Lors de l’étape d’optimisation des hyperparamètres, la recherche a été effectuée avec `GridSearchCV`, qui repose sur une **validation croisée** : le modèle est alors entraîné sur une portion ( 80 %) du jeu d’entraînement à chaque itération, puis validé sur les 20 % restants. Cela permet une évaluation fiable, mais **le modèle n’est jamais entraîné sur 100 % des données**.\n",
    "\n",
    "En revanche, après sélection des meilleurs paramètres, une relance du modèle via :\n",
    "\n",
    "```python\n",
    "tree_model = DecisionTreeRegressor(...)\n",
    "tree_model.fit(X_train, y_train)\n",
    "```\n",
    "\n",
    "entraîne le modèle **sur 100 % du jeu d’entraînement**, ce qui **explique l’augmentation naturelle du R² sur les données d’entraînement**. Cette hausse est attendue, tant que les performances sur les données de test restent stables ou s'améliorent.\n",
    "\n",
    "---\n",
    "\n",
    "Le modèle d’arbre de décision final, entraîné avec les meilleurs hyperparamètres (`max_depth = 14`, `min_samples_split = 18`, `min_samples_leaf = 4`), a produit les résultats suivants :\n",
    "\n",
    "* **R² Train** : 0.85\n",
    "* **R² Test** : 0.83\n",
    "* **MSE Test** : 1.91\n",
    "\n",
    "\n",
    "\n",
    "#### Ces performances montrent que le modèle parvient à **expliquer environ 85 % de la variance** dans les données d'entraînement, tout en conservant une capacité de généralisation élevée avec **83 % de variance expliquée sur les données de test**. L'écart entre les deux scores est faible (environ 2 %), ce qui est **un excellent indicateur de stabilité**.\n",
    "\n",
    "> Un écart faible entre R² train et test indique que le modèle n'est **pas en situation de surapprentissage** (overfitting). Il a appris les relations sous-jacentes dans les données sans les mémoriser.\n",
    "\n",
    "\n",
    "\n",
    "\n"
   ]
  },
  {
   "cell_type": "code",
   "execution_count": 31,
   "id": "79923807-04c8-4377-b128-590bd6c16021",
   "metadata": {},
   "outputs": [
    {
     "name": "stdout",
     "output_type": "stream",
     "text": [
      "product    0\n",
      "y_true     0\n",
      "y_pred     0\n",
      "R2         0\n",
      "MSE        0\n",
      "dtype: int64\n"
     ]
    }
   ],
   "source": [
    "import numpy as np\n",
    "# 1. Convertir y_pred en DataFrame si besoin\n",
    "if isinstance(y_pred_test, np.ndarray):\n",
    "    y_pred_test = pd.DataFrame(y_pred_test, columns=y_test.columns)\n",
    "\n",
    "# 2. Concaténer les données\n",
    "df_long = pd.DataFrame()\n",
    "for col in y_test.columns:\n",
    "    temp_df = pd.DataFrame({\n",
    "        'product': [col] * len(y_test),\n",
    "        'y_true': y_test[col].values,\n",
    "        'y_pred': y_pred_test[col].values\n",
    "    })\n",
    "    df_long = pd.concat([df_long, temp_df], ignore_index=True)\n",
    "\n",
    "# 3. Calculer les métriques\n",
    "metrics = []\n",
    "for col in y_test.columns:\n",
    "    r2 = r2_score(y_test[col], y_pred_test[col])\n",
    "    mse = mean_squared_error(y_test[col], y_pred_test[col])\n",
    "    metrics.append({'product': col, 'R2': r2, 'MSE': mse})\n",
    "\n",
    "df_metrics = pd.DataFrame(metrics)\n",
    "\n",
    "# 4. Fusion finale\n",
    "df_final = df_long.merge(df_metrics, on='product')\n",
    "\n",
    "print(df_final.isnull().sum())"
   ]
  },
  {
   "cell_type": "code",
   "execution_count": 32,
   "id": "0c8b9924-354b-4ed7-a1dd-7d9667f19f02",
   "metadata": {},
   "outputs": [
    {
     "name": "stdout",
     "output_type": "stream",
     "text": [
      "                     product        R2       MSE\n",
      "0                    Charbon  0.877124  0.809517\n",
      "1           boissons chaudes  0.948623  1.633293\n",
      "2          boissons fraiches  0.952921  0.916374\n",
      "3              crème solaire  0.899165  0.715549\n",
      "4   produits anti_moustiques  0.880911  3.276024\n",
      "5      produits de jardinage  0.843969  0.682869\n",
      "6    produits laitiers frais  0.783379  3.276474\n",
      "7               snacks salés  0.572991  2.961089\n",
      "8              snacks sucrés  0.737533  3.117605\n",
      "9           soins hydratants  0.883274  2.541552\n",
      "10             soins hygiene  0.774280  0.661589\n",
      "11       ustensiles jetables  0.956262  2.415972\n",
      "12     équipements d urgence  0.673190  2.039537\n"
     ]
    }
   ],
   "source": [
    "df_summary = df_final.groupby('product')[['R2', 'MSE']].first().reset_index()\n",
    "print(df_summary)\n"
   ]
  },
  {
   "cell_type": "markdown",
   "id": "31e3bd8c-9e3a-48cf-b5be-cbbb3a3ea415",
   "metadata": {},
   "source": [
    "## **Comparaison des performances par produit : Arbre de Décision vs Régression Linéaire**\n",
    "| Produit                   | R² (Arbre) | MSE (Arbre) | R² (RL) | MSE (RL) | Modèle Meilleur  |\n",
    "| ------------------------- | ---------- | ----------- | ------- | -------- | ---------------- |\n",
    "| **Charbon**               | 0.880      | 0.8       | 0.84   | 1.004    |  **Arbre**         |\n",
    "| **Boissons chaudes**      | 0.952      | 1.63       | 0.920   | 2.535    |  **Arbre**         |\n",
    "| **Boissons fraîches**     | 0.953      | 0.91       | 0.783   | 4.229    |  **Arbre**         |\n",
    "| **Crème solaire**         | 0.904      | 0.71       | 0.880   | 0.854    |  **Arbre**         |\n",
    "| **Anti-moustiques**       | 0.88      | 3.27       | 0.893   | 2.949    |  **RL**            |\n",
    "| **Produits de jardinage** | 0.84     | 0.68     | 0.718   | 1.235    |  **Arbre**         |\n",
    "| **Produits laitiers**     | 0.78      | 3.27       | 0.771   | 3.467    |  **Arbre**         |\n",
    "| **Snacks salés**          | 0.57      | 2.96       | 0.535   | 3.223    |  **Arbre**         |\n",
    "| **Snacks sucrés**         | 0.74      | 3.11       | 0.739   | 3.101    |  **Arbre (léger)** |\n",
    "| **Soins hydratants**      | 0.88      | 2.54       | 0.88   | 2.50    |  **Arbre** ou **RL**         |\n",
    "| **Soins hygiène**         | 0.77      | 0.66       | 0.772   | 0.668    |  **Arbre**         |\n",
    "| **Ustensiles jetables**   | 0.960      | 2.41       | 0.870   | 7.178    |  **Arbre**         |\n",
    "| **Équipements d’urgence** | 0.67      | 2.03      | 0.70   | 1.85    |  **RL**            |\n",
    "\n",
    "\n",
    "\n",
    "###  **Interprétation générale** :\n",
    "\n",
    "*  **L’arbre de décision surpasse la régression linéaire** sur **11 produits sur 13**, en termes de R² **et** de MSE.\n",
    "*  **Deux produits** où la régression linéaire performe légèrement mieux :\n",
    "\n",
    "    * **Produits anti-moustiques** : RL a un R² plus élevé et une MSE plus faible.\n",
    "    * **Équipements d’urgence** : légère supériorité de RL sur le R² et MSE.\n",
    "\n",
    "\n",
    "\n"
   ]
  },
  {
   "cell_type": "markdown",
   "id": "97e5446c-03c5-4974-af27-121b6d46cc3b",
   "metadata": {},
   "source": [
    "# **Doit-on répéter les mêmes étapes que dans RL pour un modèle arbre pour l'améliorer ?**\n",
    "| Étape                                       | Régression Linéaire   | Modèle Arbre de décision                                         | Faut-il répéter ?                      |\n",
    "| ------------------------------------------- | --------------------- | ---------------------------------------------------------------- | -------------------------------------- |\n",
    "| Analyse de multicolinéarité                 | Important (VIF)       | **Peu utile**                                                    | Non, les arbres gèrent la corrélation  |\n",
    "| Vérification de linéarité                   | Essentielle (résidus) | Pas nécessaire                                                   | Non                                    |\n",
    "| Variables d’interaction manuelles           | Utile                 | Généralement inutile, car l’arbre capture interactions           | Non, sauf cas particuliers             |\n",
    "| Transformations polynomiales/logarithmiques | Souvent nécessaire    | Pas nécessaire                                                   | Non                                    |\n",
    "|\n",
    "| Sélection de variables                      | SelectKBest           | Moins critique, arbres peuvent gérer cela                        | Non (mais possible via importance)     |\n",
    "| Régularisation (Lasso, Ridge)               | Oui                   | Différente : paramètres d'arbre (profondeur, min\\_samples\\_leaf) | Oui, mais avec hyperparamètres d’arbre |\n",
    "| Correction post-modèle                      | Ajustements manuels   | Souvent moins utilisée                                           | Rarement nécessaire                    |\n",
    "| Réduction dimensionnelle (PCA)              | Parfois               | Souvent inutile (arbre gère variables)                           | Souvent non nécessaire                 |\n",
    "                                 \n",
    "\n"
   ]
  },
  {
   "cell_type": "markdown",
   "id": "b7755d9b-17a4-4aae-8a6e-c1fb8ba1d5b7",
   "metadata": {},
   "source": [
    "## **Transformations interactives :**"
   ]
  },
  {
   "cell_type": "code",
   "execution_count": 16,
   "id": "d491d2de-ea06-48d7-9090-117f360c4389",
   "metadata": {},
   "outputs": [],
   "source": [
    "X['temp_precip'] = X['température'] * X['precipitation']\n",
    "X['humid_temp'] = X['humidity'] * X['température']\n",
    "X['precip_wind']=X['vitesse_vent']*X['precipitation']\n",
    "\n"
   ]
  },
  {
   "cell_type": "code",
   "execution_count": 17,
   "id": "57a7aa38-0a0c-40d5-9d81-a5ec0d9c1f79",
   "metadata": {},
   "outputs": [
    {
     "name": "stdout",
     "output_type": "stream",
     "text": [
      "(43769, 59)\n"
     ]
    }
   ],
   "source": [
    "# Transformer les features\n",
    "X_prepared2 = preprocessor.fit_transform(X)\n",
    "\n",
    "# Vérification :\n",
    "print(X_prepared2.shape)\n"
   ]
  },
  {
   "cell_type": "code",
   "execution_count": 18,
   "id": "75207fdd-5852-400a-b307-63acffe7ef2a",
   "metadata": {},
   "outputs": [
    {
     "name": "stdout",
     "output_type": "stream",
     "text": [
      "(35015, 59) (8754, 59)\n"
     ]
    }
   ],
   "source": [
    "X_train2, X_test2, y_train2, y_test2 = train_test_split(X_prepared2, y, test_size=0.2, random_state=42) # 20% test / 80% train\n",
    "\n",
    "print(X_train2.shape, X_test2.shape)"
   ]
  },
  {
   "cell_type": "code",
   "execution_count": 19,
   "id": "2cee2420-fd9c-4638-9eeb-70f1e57a6189",
   "metadata": {},
   "outputs": [
    {
     "name": "stdout",
     "output_type": "stream",
     "text": [
      "R² Train : 0.8556480664910381\n",
      "R² Test  : 0.8295092972191677\n",
      "MSE Test : 1.9267265960610251\n"
     ]
    }
   ],
   "source": [
    "\n",
    "tree_model.fit(X_train2, y_train2)\n",
    "y_pred_train2 = tree_model.predict(X_train2)\n",
    "y_pred_test2 = tree_model.predict(X_test2)\n",
    "\n",
    "print(\"R² Train :\", r2_score(y_train2, y_pred_train2))\n",
    "print(\"R² Test  :\", r2_score(y_test2, y_pred_test2))\n",
    "print(\"MSE Test :\", mean_squared_error(y_test2, y_pred_test2))\n"
   ]
  },
  {
   "cell_type": "code",
   "execution_count": 21,
   "id": "20c328a7-7c3f-4c0e-9c3c-428dde747ad7",
   "metadata": {},
   "outputs": [],
   "source": [
    "X['temp_hum_precip']=X['température'] * X['humidity'] * X['precipitation']\n",
    "X['temp_wind']=X['vitesse_vent']*X['température']\n",
    "X['temp_wind_precip']=X['température'] * X['vitesse_vent'] * X['precipitation']\n",
    "X['temp_weekend']=X['température'] * X['Weekend'] \n",
    "X['temp_ramadan']=X['température'] * X['Ramadan'] \n",
    "X['temp_newyear']=X['température'] * X['Nouvel An']\n",
    "X['temp_jourferiés']=X['température'] * X['Jours Fériés'] \n",
    "X['temp_vacance']=X['température'] * X['Vacances Scolaires'] \n",
    "X['precip_weekend']=X['precipitation'] * X['Weekend'] \n",
    "X['precip_ramadan']=X['precipitation'] * X['Ramadan'] \n",
    "X['precip_newyear']=X['precipitation'] * X['Nouvel An']\n",
    "X['precip_jourferiés']=X['precipitation'] * X['Jours Fériés'] \n",
    "X['precip_vacance']=X['precipitation'] * X['Vacances Scolaires'] \n",
    "X['vag_precip'] = X['precipitation'] * X['Indice de Pluie Intense']\n",
    "X['humid_sech']=X['humidity'] * X['Indice de sécheresse']"
   ]
  },
  {
   "cell_type": "code",
   "execution_count": 22,
   "id": "9089f308-ee89-4a79-99e3-96adcebad681",
   "metadata": {},
   "outputs": [
    {
     "name": "stdout",
     "output_type": "stream",
     "text": [
      "(43769, 74)\n"
     ]
    }
   ],
   "source": [
    "# Transformer les features\n",
    "X_prepared3 = preprocessor.fit_transform(X)\n",
    "\n",
    "# Vérification :\n",
    "print(X_prepared3.shape)\n"
   ]
  },
  {
   "cell_type": "code",
   "execution_count": 23,
   "id": "fa630cfb-d956-402a-8847-8cbef16440ce",
   "metadata": {},
   "outputs": [
    {
     "name": "stdout",
     "output_type": "stream",
     "text": [
      "(35015, 74) (8754, 74)\n"
     ]
    }
   ],
   "source": [
    "X_train3, X_test3, y_train3, y_test3 = train_test_split(X_prepared3, y, test_size=0.2, random_state=42) # 20% test / 80% train\n",
    "\n",
    "print(X_train3.shape, X_test3.shape)"
   ]
  },
  {
   "cell_type": "code",
   "execution_count": 24,
   "id": "e619f69b-ed3a-454c-bf8a-d8e686953758",
   "metadata": {},
   "outputs": [
    {
     "name": "stdout",
     "output_type": "stream",
     "text": [
      "R² Train : 0.8556506456031779\n",
      "R² Test  : 0.8289016361032396\n",
      "MSE Test : 1.9215327160642721\n"
     ]
    }
   ],
   "source": [
    "\n",
    "tree_model.fit(X_train3, y_train3)\n",
    "y_pred_train3 = tree_model.predict(X_train3)\n",
    "y_pred_test3 = tree_model.predict(X_test3)\n",
    "\n",
    "print(\"R² Train :\", r2_score(y_train3, y_pred_train3))\n",
    "print(\"R² Test  :\", r2_score(y_test3, y_pred_test3))\n",
    "print(\"MSE Test :\", mean_squared_error(y_test3, y_pred_test3))\n"
   ]
  },
  {
   "cell_type": "code",
   "execution_count": 25,
   "id": "ab921231-b93f-4f57-97a0-36d180e23b24",
   "metadata": {},
   "outputs": [],
   "source": [
    "X=X.drop(columns=['temp_weekend','temp_ramadan','temp_newyear','temp_jourferiés',\n",
    "'temp_vacance','precip_weekend','precip_ramadan','precip_newyear',\n",
    "'precip_jourferiés','precip_vacance','vag_precip','humid_sech'])"
   ]
  },
  {
   "cell_type": "code",
   "execution_count": 26,
   "id": "783aac11-54af-4c8b-b048-3973fbef8b47",
   "metadata": {},
   "outputs": [
    {
     "name": "stdout",
     "output_type": "stream",
     "text": [
      "(43769, 62)\n",
      "(35015, 62) (8754, 62)\n",
      "R² Train : 0.855628703068834\n",
      "R² Test  : 0.8296701093487452\n",
      "MSE Test : 1.9139165959676687\n"
     ]
    }
   ],
   "source": [
    "# Transformer les features\n",
    "X_prepared4 = preprocessor.fit_transform(X)\n",
    "\n",
    "# Vérification :\n",
    "print(X_prepared4.shape)\n",
    "X_train4, X_test4, y_train4, y_test4 = train_test_split(X_prepared4, y, test_size=0.2, random_state=42) # 20% test / 80% train\n",
    "\n",
    "print(X_train4.shape, X_test4.shape)\n",
    "\n",
    "tree_model.fit(X_train4, y_train4)\n",
    "y_pred_train4 = tree_model.predict(X_train4)\n",
    "y_pred_test4 = tree_model.predict(X_test4)\n",
    "\n",
    "print(\"R² Train :\", r2_score(y_train4, y_pred_train4))\n",
    "print(\"R² Test  :\", r2_score(y_test4, y_pred_test4))\n",
    "print(\"MSE Test :\", mean_squared_error(y_test4, y_pred_test4))\n",
    "\n"
   ]
  },
  {
   "cell_type": "code",
   "execution_count": 27,
   "id": "75529e49-be3a-4e60-ba92-1a3c90139b26",
   "metadata": {},
   "outputs": [],
   "source": [
    "X=X.drop(columns=['temp_hum_precip','temp_wind','temp_wind_precip'])"
   ]
  },
  {
   "cell_type": "code",
   "execution_count": 28,
   "id": "01de836f-0e20-41ae-8683-0f2d317399e3",
   "metadata": {},
   "outputs": [
    {
     "name": "stdout",
     "output_type": "stream",
     "text": [
      "(43769, 59)\n",
      "(35015, 59) (8754, 59)\n",
      "R² Train :0.8556\n",
      "R² Test  : 0.8295\n",
      "MSE Test : 1.9267\n"
     ]
    }
   ],
   "source": [
    "# Transformer les features\n",
    "X_prepared = preprocessor.fit_transform(X)\n",
    "\n",
    "# Vérification :\n",
    "print(X_prepared.shape)\n",
    "X_train, X_test, y_train, y_test = train_test_split(X_prepared, y, test_size=0.2, random_state=42) \n",
    "\n",
    "print(X_train.shape, X_test.shape)\n",
    "\n",
    "tree_model.fit(X_train, y_train)\n",
    "y_pred_train = tree_model.predict(X_train)\n",
    "y_pred_test = tree_model.predict(X_test)\n",
    "\n",
    "print(f\"R² Train :{r2_score(y_train, y_pred_train):.4f}\")\n",
    "print(f\"R² Test  : {r2_score(y_test, y_pred_test):.4f}\")\n",
    "print(f\"MSE Test : {mean_squared_error(y_test, y_pred_test):.4f}\")\n",
    "\n"
   ]
  },
  {
   "cell_type": "code",
   "execution_count": 20,
   "id": "2fea3c9a-597c-4c58-bd76-008864d5549f",
   "metadata": {},
   "outputs": [
    {
     "name": "stdout",
     "output_type": "stream",
     "text": [
      "(8754, 13) (8754, 13)\n"
     ]
    }
   ],
   "source": [
    "print(y_test.shape,y_pred_test.shape)"
   ]
  },
  {
   "cell_type": "markdown",
   "id": "be2e139d-79cb-4c68-a77f-1975af9f18f7",
   "metadata": {},
   "source": [
    "**Afin d’améliorer les performances du modèle d’arbre de décision, plusieurs transformations interactives ont été testées. Ces transformations visaient à mieux capturer les relations non linéaires entre les variables indépendantes et la variable cible.**\n",
    "\n",
    "**Après expérimentation, la meilleure configuration obtenue est la suivante :**\n",
    "\n",
    "* **R² (Train) : 0.7899**\n",
    "\n",
    "* **R² (Test) : 0.7552**\n",
    "\n",
    "* **MSE (Test) : 1.6782**\n",
    "\n",
    "> ### Ces résultats montrent que le modèle a pu mieux généraliser sur les données de test, tout en réduisant significativement l’erreur quadratique moyenne par rapport aux versions antérieures. "
   ]
  },
  {
   "cell_type": "code",
   "execution_count": 29,
   "id": "6e3a2d69-4690-4dd8-a51e-d4e21e2ab19d",
   "metadata": {},
   "outputs": [
    {
     "name": "stdout",
     "output_type": "stream",
     "text": [
      "                     product        R2       MSE\n",
      "0                    Charbon  0.877124  0.809517\n",
      "1           boissons chaudes  0.948623  1.633293\n",
      "2          boissons fraiches  0.952921  0.916374\n",
      "3              crème solaire  0.899165  0.715549\n",
      "4   produits anti_moustiques  0.880911  3.276024\n",
      "5      produits de jardinage  0.843969  0.682869\n",
      "6    produits laitiers frais  0.783379  3.276474\n",
      "7               snacks salés  0.572991  2.961089\n",
      "8              snacks sucrés  0.737533  3.117605\n",
      "9           soins hydratants  0.883274  2.541552\n",
      "10             soins hygiene  0.774280  0.661589\n",
      "11       ustensiles jetables  0.956262  2.415972\n",
      "12     équipements d urgence  0.673190  2.039537\n"
     ]
    }
   ],
   "source": [
    "\n",
    "# 1. Convertir y_pred en DataFrame si besoin\n",
    "if isinstance(y_pred_test, np.ndarray):\n",
    "    y_pred_test = pd.DataFrame(y_pred_test, columns=y_test.columns)\n",
    "\n",
    "# 2. Concaténer les données\n",
    "df_long = pd.DataFrame()\n",
    "for col in y_test.columns:\n",
    "    temp_df = pd.DataFrame({\n",
    "        'product': [col] * len(y_test),\n",
    "        'y_true': y_test[col].values,\n",
    "        'y_pred': y_pred_test[col].values\n",
    "    })\n",
    "    df_long = pd.concat([df_long, temp_df], ignore_index=True)\n",
    "\n",
    "# 3. Calculer les métriques\n",
    "metrics = []\n",
    "for col in y_test.columns:\n",
    "    r2 = r2_score(y_test[col], y_pred_test[col])\n",
    "    mse = mean_squared_error(y_test[col], y_pred_test[col])\n",
    "    metrics.append({'product': col, 'R2': r2, 'MSE': mse})\n",
    "\n",
    "df_metrics = pd.DataFrame(metrics)\n",
    "\n",
    "# 4. Fusion finale\n",
    "df_final = df_long.merge(df_metrics, on='product')\n",
    "\n",
    "\n",
    "df_summary = df_final.groupby('product')[['R2', 'MSE']].first().reset_index()\n",
    "print(df_summary)\n"
   ]
  },
  {
   "cell_type": "markdown",
   "id": "ef83df9f-d395-48c2-8ca6-01f17469e222",
   "metadata": {},
   "source": [
    "# **Cross Validation**"
   ]
  },
  {
   "cell_type": "code",
   "execution_count": 30,
   "id": "6e55df9f-dabc-45f1-9a12-5be1c8372307",
   "metadata": {},
   "outputs": [
    {
     "name": "stdout",
     "output_type": "stream",
     "text": [
      "R² par fold : [0.8084 0.8086]\n",
      "Score R² moyen sur 2 folds : 0.8085\n",
      "R² par fold : [0.8174 0.8157 0.8168]\n",
      "Score R² moyen sur 3 folds : 0.8166\n",
      "R² par fold : [0.8169 0.8199 0.8214 0.8179]\n",
      "Score R² moyen sur 4 folds : 0.8190\n",
      "R² par fold : [0.8181 0.8234 0.8184 0.822  0.8188]\n",
      "Score R² moyen sur 5 folds : 0.8202\n",
      "R² par fold : [0.8186 0.8243 0.8199 0.8222 0.8227 0.8193]\n",
      "Score R² moyen sur 6 folds : 0.8212\n",
      "R² par fold : [0.8187 0.8214 0.8267 0.8191 0.8231 0.8181 0.8226]\n",
      "Score R² moyen sur 7 folds : 0.8214\n",
      "R² par fold : [0.819  0.8219 0.827  0.8191 0.8239 0.8251 0.8199 0.8221]\n",
      "Score R² moyen sur 8 folds : 0.8222\n",
      "R² par fold : [0.8194 0.8223 0.8261 0.8249 0.8161 0.8228 0.8277 0.8232 0.8211]\n",
      "Score R² moyen sur 9 folds : 0.8226\n",
      "R² par fold : [0.8214 0.821  0.8254 0.8282 0.8168 0.8258 0.8249 0.8232 0.8238 0.8213]\n",
      "Score R² moyen sur 10 folds : 0.8232\n"
     ]
    }
   ],
   "source": [
    "from sklearn.model_selection import cross_val_score\n",
    "from sklearn.pipeline import Pipeline\n",
    "\n",
    "def evaluate_cv_model(x, y, cv=5, scoring='r2'):\n",
    " \n",
    "\n",
    "    # Évaluation par cross-validation\n",
    "    scores = cross_val_score(tree_model, x, y, cv=cv, scoring=scoring)\n",
    "\n",
    "    # Affichage\n",
    "    if scoring == 'r2':\n",
    "        print(f\"R² par fold : {np.round(scores, 4)}\")\n",
    "        print(f\"Score R² moyen sur {cv} folds : {scores.mean():.4f}\")\n",
    "    elif scoring == 'neg_mean_squared_error':\n",
    "        mse_scores = -scores\n",
    "        print(f\"MSE par fold : {np.round(mse_scores, 4)}\")\n",
    "        print(f\"MSE moyen sur {cv} folds : {mse_scores.mean():.4f}\")\n",
    "    else:\n",
    "        print(\"Scoring non reconnu\")\n",
    "\n",
    "\n",
    "evaluate_cv_model(X_train, y_train, cv=2, scoring='r2')\n",
    "evaluate_cv_model(X_train, y_train,  cv=3, scoring='r2')\n",
    "evaluate_cv_model(X_train, y_train, cv=4, scoring='r2')\n",
    "evaluate_cv_model(X_train, y_train, cv=5, scoring='r2')\n",
    "evaluate_cv_model(X_train, y_train,  cv=6, scoring='r2')\n",
    "evaluate_cv_model(X_train, y_train,  cv=7, scoring='r2')\n",
    "evaluate_cv_model(X_train, y_train,  cv=8, scoring='r2')\n",
    "evaluate_cv_model(X_train, y_train, cv=9, scoring='r2')\n",
    "evaluate_cv_model(X_train, y_train, cv=10, scoring='r2')\n",
    "\n",
    "\n"
   ]
  },
  {
   "cell_type": "markdown",
   "id": "5dea770d-cfde-42a9-92a8-65f3870297d1",
   "metadata": {},
   "source": [
    "> ### À 10 folds, le score est stabilisé autour de 0.82, ce qui est un bon indicateur de généralisation."
   ]
  },
  {
   "cell_type": "markdown",
   "id": "911445d0-33f4-4dae-93db-28e3e2a05b10",
   "metadata": {},
   "source": [
    "# **CONCLUSION**\n",
    "\n",
    "\n",
    "Le modèle **DecisionTreeRegressor** a été entraîné et évalué sur notre jeu de données, offrant une approche intuitive et non linéaire pour prédire la variable cible.\n",
    "\n",
    "Les résultats montrent que cet arbre de décision est capable de capturer des relations complexes entre les variables explicatives et la cible, avec un coefficient de détermination $R^2$ satisfaisant (0.82). La validation croisée confirme la stabilité relative du modèle à travers différents sous-ensembles des données, bien que des variations légères soient observées selon le nombre de folds utilisés.\n",
    "\n",
    "Cependant, plusieurs points peuvent être améliorés :\n",
    "\n",
    "* L’arbre de décision tend à sur-ajuster les données d’entraînement si aucune régularisation ou limitation de profondeur n’est appliquée, ce qui pourrait nuire à sa généralisation.\n",
    "* Le modèle pourrait bénéficier d’une optimisation des hyperparamètres (profondeur maximale, nombre minimal d’échantillons par feuille, etc.) pour trouver un meilleur compromis biais-variance.\n",
    "\n",
    "\n",
    "En résumé, le **DecisionTreeRegressor** constitue une bonne première approche pour ce problème de régression, offrant à la fois simplicité et interprétabilité. Pour aller plus loin, l’exploration de modèles plus complexes et la mise en place d’une recherche d’hyperparamètres sont recommandées afin d’améliorer la précision et la robustesse des prédictions.\n",
    "\n",
    "---\n"
   ]
  },
  {
   "cell_type": "code",
   "execution_count": null,
   "id": "9e186fa0-fb5a-4113-9e21-67234789a2eb",
   "metadata": {},
   "outputs": [],
   "source": []
  }
 ],
 "metadata": {
  "kernelspec": {
   "display_name": "Python 3 (ipykernel)",
   "language": "python",
   "name": "python3"
  },
  "language_info": {
   "codemirror_mode": {
    "name": "ipython",
    "version": 3
   },
   "file_extension": ".py",
   "mimetype": "text/x-python",
   "name": "python",
   "nbconvert_exporter": "python",
   "pygments_lexer": "ipython3",
   "version": "3.12.0"
  },
  "widgets": {
   "application/vnd.jupyter.widget-state+json": {
    "state": {},
    "version_major": 2,
    "version_minor": 0
   }
  }
 },
 "nbformat": 4,
 "nbformat_minor": 5
}
